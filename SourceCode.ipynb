{
 "cells": [
  {
   "cell_type": "code",
   "execution_count": 36,
   "id": "71c61796",
   "metadata": {},
   "outputs": [],
   "source": [
    "#import\n",
    "import numpy as np\n",
    "import pandas as pd\n",
    "import matplotlib.pyplot as plt\n",
    "import seaborn as sns\n",
    "from sklearn.cluster import KMeans\n",
    "from sklearn.preprocessing import MinMaxScaler\n",
    "\n",
    "#read the dataset\n",
    "df = pd.read_excel(\"SixHKStockData.xls\", \"Stacked\")"
   ]
  },
  {
   "cell_type": "code",
   "execution_count": 37,
   "id": "2fc16fc4",
   "metadata": {},
   "outputs": [],
   "source": [
    "##Data cleaning"
   ]
  },
  {
   "cell_type": "code",
   "execution_count": 38,
   "id": "ea4503f7",
   "metadata": {
    "scrolled": true
   },
   "outputs": [
    {
     "name": "stdout",
     "output_type": "stream",
     "text": [
      "<class 'pandas.core.frame.DataFrame'>\n",
      "RangeIndex: 11068 entries, 0 to 11067\n",
      "Data columns (total 7 columns):\n",
      " #   Column    Non-Null Count  Dtype         \n",
      "---  ------    --------------  -----         \n",
      " 0   stock_id  11068 non-null  int64         \n",
      " 1   tdate     11068 non-null  datetime64[ns]\n",
      " 2   open      11068 non-null  float64       \n",
      " 3   close     11068 non-null  float64       \n",
      " 4   high      11068 non-null  float64       \n",
      " 5   low       11068 non-null  float64       \n",
      " 6   volume    11068 non-null  int64         \n",
      "dtypes: datetime64[ns](1), float64(4), int64(2)\n",
      "memory usage: 605.4 KB\n"
     ]
    }
   ],
   "source": [
    "# Display complete output in Jupyter notebook\n",
    "pd.set_option(\"display.max_rows\", None, \"display.max_columns\", None)\n",
    "\n",
    "df.info()"
   ]
  },
  {
   "cell_type": "code",
   "execution_count": 39,
   "id": "105f5727",
   "metadata": {},
   "outputs": [
    {
     "data": {
      "text/plain": [
       "stock_id      0\n",
       "tdate         0\n",
       "open          0\n",
       "close         0\n",
       "high          0\n",
       "low           0\n",
       "volume      640\n",
       "dtype: int64"
      ]
     },
     "execution_count": 39,
     "metadata": {},
     "output_type": "execute_result"
    }
   ],
   "source": [
    "#find zero value (missing data)\n",
    "(df == 0).sum()"
   ]
  },
  {
   "cell_type": "code",
   "execution_count": 40,
   "id": "d499bf82",
   "metadata": {},
   "outputs": [],
   "source": [
    "# drop non-numerical attributes\n",
    "df = df.drop(columns=['tdate'])"
   ]
  },
  {
   "cell_type": "code",
   "execution_count": 41,
   "id": "5f0b8e21",
   "metadata": {},
   "outputs": [],
   "source": [
    "# drop primary key \n",
    "df = df.drop(columns=['stock_id'])"
   ]
  },
  {
   "cell_type": "code",
   "execution_count": 42,
   "id": "c31c7462",
   "metadata": {},
   "outputs": [],
   "source": [
    "##Feature Engineering\n",
    "df['1DayMovement'] = (df['close']-df['open']) \n",
    "df['Movement%'] = df['1DayMovement'] / df['open']"
   ]
  },
  {
   "cell_type": "code",
   "execution_count": 43,
   "id": "5b1b0c9d",
   "metadata": {},
   "outputs": [],
   "source": [
    "##Clustering"
   ]
  },
  {
   "cell_type": "code",
   "execution_count": 44,
   "id": "6caea733",
   "metadata": {},
   "outputs": [],
   "source": [
    "# Case: 1DayMovement vs Movement%"
   ]
  },
  {
   "cell_type": "code",
   "execution_count": 45,
   "id": "dacdafa1",
   "metadata": {},
   "outputs": [
    {
     "data": {
      "text/plain": [
       "[<matplotlib.lines.Line2D at 0x1f604d46910>]"
      ]
     },
     "execution_count": 45,
     "metadata": {},
     "output_type": "execute_result"
    },
    {
     "data": {
      "image/png": "[encoded data removed]",
      "text/plain": [
       "<Figure size 432x288 with 1 Axes>"
      ]
     },
     "metadata": {
      "needs_background": "light"
     },
     "output_type": "display_data"
    }
   ],
   "source": [
    "# find the suitable k-means cluster by sse\n",
    "sse = []\n",
    "k_rng = range(1,11)\n",
    "for k in k_rng:\n",
    "    km = KMeans(n_clusters=k)\n",
    "    km.fit(df[['Movement%','1DayMovement']])\n",
    "    sse.append(km.inertia_)\n",
    "\n",
    "plt.xlabel('K-means cluster')\n",
    "plt.ylabel('Sum of squared error')\n",
    "plt.plot(k_rng,sse)"
   ]
  },
  {
   "cell_type": "code",
   "execution_count": 46,
   "id": "1589c1f3",
   "metadata": {},
   "outputs": [
    {
     "data": {
      "text/plain": [
       "KMeans(n_clusters=5)"
      ]
     },
     "execution_count": 46,
     "metadata": {},
     "output_type": "execute_result"
    }
   ],
   "source": [
    "# define k-means clusters\n",
    "km = KMeans(n_clusters=5)\n",
    "km"
   ]
  },
  {
   "cell_type": "code",
   "execution_count": 47,
   "id": "3d8c5805",
   "metadata": {
    "scrolled": false
   },
   "outputs": [
    {
     "data": {
      "text/plain": [
       "<matplotlib.collections.PathCollection at 0x1f604b31c40>"
      ]
     },
     "execution_count": 47,
     "metadata": {},
     "output_type": "execute_result"
    },
    {
     "data": {
      "image/png": "[encoded data removed]",
      "text/plain": [
       "<Figure size 432x288 with 1 Axes>"
      ]
     },
     "metadata": {
      "needs_background": "light"
     },
     "output_type": "display_data"
    }
   ],
   "source": [
    "plt.scatter(df['Movement%'], df['1DayMovement'])"
   ]
  },
  {
   "cell_type": "code",
   "execution_count": 48,
   "id": "915b99e7",
   "metadata": {},
   "outputs": [
    {
     "data": {
      "text/plain": [
       "array([1, 1, 1, ..., 0, 0, 0])"
      ]
     },
     "execution_count": 48,
     "metadata": {},
     "output_type": "execute_result"
    }
   ],
   "source": [
    "y_predicted = km.fit_predict(df[['Movement%', '1DayMovement']])\n",
    "y_predicted"
   ]
  },
  {
   "cell_type": "code",
   "execution_count": 49,
   "id": "2fabdec7",
   "metadata": {},
   "outputs": [
    {
     "data": {
      "text/html": [
       "<div>\n",
       "<style scoped>\n",
       "    .dataframe tbody tr th:only-of-type {\n",
       "        vertical-align: middle;\n",
       "    }\n",
       "\n",
       "    .dataframe tbody tr th {\n",
       "        vertical-align: top;\n",
       "    }\n",
       "\n",
       "    .dataframe thead th {\n",
       "        text-align: right;\n",
       "    }\n",
       "</style>\n",
       "<table border=\"1\" class=\"dataframe\">\n",
       "  <thead>\n",
       "    <tr style=\"text-align: right;\">\n",
       "      <th></th>\n",
       "      <th>open</th>\n",
       "      <th>close</th>\n",
       "      <th>high</th>\n",
       "      <th>low</th>\n",
       "      <th>volume</th>\n",
       "      <th>1DayMovement</th>\n",
       "      <th>Movement%</th>\n",
       "      <th>cluster</th>\n",
       "    </tr>\n",
       "  </thead>\n",
       "  <tbody>\n",
       "    <tr>\n",
       "      <th>0</th>\n",
       "      <td>100.0</td>\n",
       "      <td>98.00</td>\n",
       "      <td>101.0</td>\n",
       "      <td>98.00</td>\n",
       "      <td>2283100</td>\n",
       "      <td>-2.00</td>\n",
       "      <td>-0.020000</td>\n",
       "      <td>1</td>\n",
       "    </tr>\n",
       "    <tr>\n",
       "      <th>1</th>\n",
       "      <td>93.5</td>\n",
       "      <td>91.25</td>\n",
       "      <td>95.0</td>\n",
       "      <td>90.75</td>\n",
       "      <td>4330100</td>\n",
       "      <td>-2.25</td>\n",
       "      <td>-0.024064</td>\n",
       "      <td>1</td>\n",
       "    </tr>\n",
       "    <tr>\n",
       "      <th>2</th>\n",
       "      <td>92.0</td>\n",
       "      <td>86.75</td>\n",
       "      <td>92.5</td>\n",
       "      <td>85.00</td>\n",
       "      <td>7462000</td>\n",
       "      <td>-5.25</td>\n",
       "      <td>-0.057065</td>\n",
       "      <td>1</td>\n",
       "    </tr>\n",
       "    <tr>\n",
       "      <th>3</th>\n",
       "      <td>88.0</td>\n",
       "      <td>88.50</td>\n",
       "      <td>89.0</td>\n",
       "      <td>86.50</td>\n",
       "      <td>4323800</td>\n",
       "      <td>0.50</td>\n",
       "      <td>0.005682</td>\n",
       "      <td>0</td>\n",
       "    </tr>\n",
       "    <tr>\n",
       "      <th>4</th>\n",
       "      <td>91.5</td>\n",
       "      <td>89.25</td>\n",
       "      <td>93.0</td>\n",
       "      <td>89.25</td>\n",
       "      <td>3713200</td>\n",
       "      <td>-2.25</td>\n",
       "      <td>-0.024590</td>\n",
       "      <td>1</td>\n",
       "    </tr>\n",
       "  </tbody>\n",
       "</table>\n",
       "</div>"
      ],
      "text/plain": [
       "    open  close   high    low   volume  1DayMovement  Movement%  cluster\n",
       "0  100.0  98.00  101.0  98.00  2283100         -2.00  -0.020000        1\n",
       "1   93.5  91.25   95.0  90.75  4330100         -2.25  -0.024064        1\n",
       "2   92.0  86.75   92.5  85.00  7462000         -5.25  -0.057065        1\n",
       "3   88.0  88.50   89.0  86.50  4323800          0.50   0.005682        0\n",
       "4   91.5  89.25   93.0  89.25  3713200         -2.25  -0.024590        1"
      ]
     },
     "execution_count": 49,
     "metadata": {},
     "output_type": "execute_result"
    }
   ],
   "source": [
    "df['cluster'] = y_predicted\n",
    "df.head()"
   ]
  },
  {
   "cell_type": "code",
   "execution_count": 50,
   "id": "eda42935",
   "metadata": {},
   "outputs": [
    {
     "data": {
      "text/plain": [
       "array([[ 7.93917464e-04,  3.64364887e-02],\n",
       "       [-2.95132597e-02, -2.60259740e+00],\n",
       "       [-1.42962272e-02, -7.95624257e-01],\n",
       "       [ 1.77474967e-02,  1.10776945e+00],\n",
       "       [ 3.69305847e-02,  3.13796296e+00]])"
      ]
     },
     "execution_count": 50,
     "metadata": {},
     "output_type": "execute_result"
    }
   ],
   "source": [
    "km.cluster_centers_"
   ]
  },
  {
   "cell_type": "code",
   "execution_count": 51,
   "id": "35fa8cc8",
   "metadata": {},
   "outputs": [],
   "source": [
    "# spilt df by df.cluster\n",
    "df1 = df[df.cluster==0]\n",
    "df2 = df[df.cluster==1]\n",
    "df3 = df[df.cluster==2]\n",
    "df4 = df[df.cluster==3]\n",
    "df5 = df[df.cluster==4]"
   ]
  },
  {
   "cell_type": "code",
   "execution_count": 52,
   "id": "adec891a",
   "metadata": {
    "scrolled": true
   },
   "outputs": [
    {
     "data": {
      "text/plain": [
       "<matplotlib.legend.Legend at 0x1f604b97610>"
      ]
     },
     "execution_count": 52,
     "metadata": {},
     "output_type": "execute_result"
    },
    {
     "data": {
      "image/png": "[encoded data removed]",
      "text/plain": [
       "<Figure size 432x288 with 1 Axes>"
      ]
     },
     "metadata": {
      "needs_background": "light"
     },
     "output_type": "display_data"
    }
   ],
   "source": [
    "# visualized graph for clustering result\n",
    "plt.scatter(df1['Movement%'], df1['1DayMovement'],color='green')\n",
    "plt.scatter(df2['Movement%'], df2['1DayMovement'],color='red')\n",
    "plt.scatter(df3['Movement%'], df3['1DayMovement'],color='pink')\n",
    "plt.scatter(df4['Movement%'], df4['1DayMovement'],color='yellow')\n",
    "plt.scatter(df5['Movement%'], df5['1DayMovement'],color='orange')\n",
    "plt.scatter(km.cluster_centers_[:,0],km.cluster_centers_[:,1],color='black',marker='*',label='centroid')\n",
    "plt.xlabel('Movement%')\n",
    "plt.ylabel('1DayMovement')\n",
    "plt.legend()"
   ]
  },
  {
   "cell_type": "code",
   "execution_count": 53,
   "id": "d94257e2",
   "metadata": {},
   "outputs": [],
   "source": [
    "# Case: close vs 1DayMovement"
   ]
  },
  {
   "cell_type": "code",
   "execution_count": 54,
   "id": "b3f604cf",
   "metadata": {},
   "outputs": [
    {
     "data": {
      "text/plain": [
       "[<matplotlib.lines.Line2D at 0x1f604c07790>]"
      ]
     },
     "execution_count": 54,
     "metadata": {},
     "output_type": "execute_result"
    },
    {
     "data": {
      "image/png": "[encoded data removed]",
      "text/plain": [
       "<Figure size 432x288 with 1 Axes>"
      ]
     },
     "metadata": {
      "needs_background": "light"
     },
     "output_type": "display_data"
    }
   ],
   "source": [
    "# find the suitable k-means cluster by sse\n",
    "sse = []\n",
    "k_rng = range(1,11)\n",
    "for k in k_rng:\n",
    "    km = KMeans(n_clusters=k)\n",
    "    km.fit(df[['close','1DayMovement']])\n",
    "    sse.append(km.inertia_)\n",
    "\n",
    "plt.xlabel('K-means cluster')\n",
    "plt.ylabel('Sum of squared error')\n",
    "plt.plot(k_rng,sse)"
   ]
  },
  {
   "cell_type": "code",
   "execution_count": 55,
   "id": "ff215e1c",
   "metadata": {},
   "outputs": [
    {
     "data": {
      "text/plain": [
       "KMeans(n_clusters=3)"
      ]
     },
     "execution_count": 55,
     "metadata": {},
     "output_type": "execute_result"
    }
   ],
   "source": [
    "#define k-means clusters\n",
    "km = KMeans(n_clusters=3)\n",
    "km"
   ]
  },
  {
   "cell_type": "code",
   "execution_count": 56,
   "id": "9f921af7",
   "metadata": {},
   "outputs": [
    {
     "data": {
      "text/plain": [
       "<matplotlib.collections.PathCollection at 0x1f604bb11c0>"
      ]
     },
     "execution_count": 56,
     "metadata": {},
     "output_type": "execute_result"
    },
    {
     "data": {
      "image/png": "[encoded data removed]",
      "text/plain": [
       "<Figure size 432x288 with 1 Axes>"
      ]
     },
     "metadata": {
      "needs_background": "light"
     },
     "output_type": "display_data"
    }
   ],
   "source": [
    "#df['1DayMovement'] = df['close']-df['open'] \n",
    "plt.scatter(df.close, df['1DayMovement'])"
   ]
  },
  {
   "cell_type": "code",
   "execution_count": 57,
   "id": "de9c5818",
   "metadata": {},
   "outputs": [
    {
     "data": {
      "text/plain": [
       "array([1, 1, 1, ..., 0, 0, 0])"
      ]
     },
     "execution_count": 57,
     "metadata": {},
     "output_type": "execute_result"
    }
   ],
   "source": [
    "y_predicted = km.fit_predict(df[['close', '1DayMovement']])\n",
    "y_predicted"
   ]
  },
  {
   "cell_type": "code",
   "execution_count": 58,
   "id": "43a92857",
   "metadata": {},
   "outputs": [
    {
     "data": {
      "text/html": [
       "<div>\n",
       "<style scoped>\n",
       "    .dataframe tbody tr th:only-of-type {\n",
       "        vertical-align: middle;\n",
       "    }\n",
       "\n",
       "    .dataframe tbody tr th {\n",
       "        vertical-align: top;\n",
       "    }\n",
       "\n",
       "    .dataframe thead th {\n",
       "        text-align: right;\n",
       "    }\n",
       "</style>\n",
       "<table border=\"1\" class=\"dataframe\">\n",
       "  <thead>\n",
       "    <tr style=\"text-align: right;\">\n",
       "      <th></th>\n",
       "      <th>open</th>\n",
       "      <th>close</th>\n",
       "      <th>high</th>\n",
       "      <th>low</th>\n",
       "      <th>volume</th>\n",
       "      <th>1DayMovement</th>\n",
       "      <th>Movement%</th>\n",
       "      <th>cluster</th>\n",
       "    </tr>\n",
       "  </thead>\n",
       "  <tbody>\n",
       "    <tr>\n",
       "      <th>0</th>\n",
       "      <td>100.0</td>\n",
       "      <td>98.00</td>\n",
       "      <td>101.0</td>\n",
       "      <td>98.00</td>\n",
       "      <td>2283100</td>\n",
       "      <td>-2.00</td>\n",
       "      <td>-0.020000</td>\n",
       "      <td>1</td>\n",
       "    </tr>\n",
       "    <tr>\n",
       "      <th>1</th>\n",
       "      <td>93.5</td>\n",
       "      <td>91.25</td>\n",
       "      <td>95.0</td>\n",
       "      <td>90.75</td>\n",
       "      <td>4330100</td>\n",
       "      <td>-2.25</td>\n",
       "      <td>-0.024064</td>\n",
       "      <td>1</td>\n",
       "    </tr>\n",
       "    <tr>\n",
       "      <th>2</th>\n",
       "      <td>92.0</td>\n",
       "      <td>86.75</td>\n",
       "      <td>92.5</td>\n",
       "      <td>85.00</td>\n",
       "      <td>7462000</td>\n",
       "      <td>-5.25</td>\n",
       "      <td>-0.057065</td>\n",
       "      <td>1</td>\n",
       "    </tr>\n",
       "    <tr>\n",
       "      <th>3</th>\n",
       "      <td>88.0</td>\n",
       "      <td>88.50</td>\n",
       "      <td>89.0</td>\n",
       "      <td>86.50</td>\n",
       "      <td>4323800</td>\n",
       "      <td>0.50</td>\n",
       "      <td>0.005682</td>\n",
       "      <td>1</td>\n",
       "    </tr>\n",
       "    <tr>\n",
       "      <th>4</th>\n",
       "      <td>91.5</td>\n",
       "      <td>89.25</td>\n",
       "      <td>93.0</td>\n",
       "      <td>89.25</td>\n",
       "      <td>3713200</td>\n",
       "      <td>-2.25</td>\n",
       "      <td>-0.024590</td>\n",
       "      <td>1</td>\n",
       "    </tr>\n",
       "  </tbody>\n",
       "</table>\n",
       "</div>"
      ],
      "text/plain": [
       "    open  close   high    low   volume  1DayMovement  Movement%  cluster\n",
       "0  100.0  98.00  101.0  98.00  2283100         -2.00  -0.020000        1\n",
       "1   93.5  91.25   95.0  90.75  4330100         -2.25  -0.024064        1\n",
       "2   92.0  86.75   92.5  85.00  7462000         -5.25  -0.057065        1\n",
       "3   88.0  88.50   89.0  86.50  4323800          0.50   0.005682        1\n",
       "4   91.5  89.25   93.0  89.25  3713200         -2.25  -0.024590        1"
      ]
     },
     "execution_count": 58,
     "metadata": {},
     "output_type": "execute_result"
    }
   ],
   "source": [
    "df['cluster'] = y_predicted\n",
    "df.head()"
   ]
  },
  {
   "cell_type": "code",
   "execution_count": 59,
   "id": "ee20cfb8",
   "metadata": {
    "scrolled": true
   },
   "outputs": [
    {
     "data": {
      "text/plain": [
       "array([[ 6.32314366e+01, -3.51679104e-02],\n",
       "       [ 9.41598145e+01, -2.09612142e-02],\n",
       "       [ 1.24261571e+01, -1.31108243e-03]])"
      ]
     },
     "execution_count": 59,
     "metadata": {},
     "output_type": "execute_result"
    }
   ],
   "source": [
    "km.cluster_centers_"
   ]
  },
  {
   "cell_type": "code",
   "execution_count": 60,
   "id": "0dbf77f2",
   "metadata": {},
   "outputs": [],
   "source": [
    "# spilt df by df.cluster\n",
    "df1 = df[df.cluster==0]\n",
    "df2 = df[df.cluster==1]\n",
    "df3 = df[df.cluster==2]"
   ]
  },
  {
   "cell_type": "code",
   "execution_count": 61,
   "id": "83e8bfaa",
   "metadata": {
    "scrolled": true
   },
   "outputs": [
    {
     "name": "stdout",
     "output_type": "stream",
     "text": [
      "intra-similiarity in df1: 5085644.406165919\n",
      "intra-similiarity in df2: 3137787.541677492\n",
      "intra-similiarity in df3: 54752013.30527215\n"
     ]
    }
   ],
   "source": [
    "# check intra-similiarity\n",
    "from sklearn.metrics import  pairwise \n",
    "\n",
    "sim0_intra = pairwise.pairwise_distances(df1, metric='euclidean')\n",
    "sim1_intra = pairwise.pairwise_distances(df2, metric='euclidean')\n",
    "sim2_intra = pairwise.pairwise_distances(df3, metric='euclidean')\n",
    "\n",
    "similarityClass0 = sim0_intra.mean()\n",
    "similarityClass1 = sim1_intra.mean()\n",
    "similarityClass2 = sim2_intra.mean()\n",
    "\n",
    "print(\"intra-similiarity in df1: \"+str(similarityClass0))\n",
    "print(\"intra-similiarity in df2: \"+str(similarityClass1))\n",
    "print(\"intra-similiarity in df3: \"+str(similarityClass2))"
   ]
  },
  {
   "cell_type": "code",
   "execution_count": 62,
   "id": "d3984e88",
   "metadata": {
    "scrolled": true
   },
   "outputs": [
    {
     "data": {
      "text/plain": [
       "<matplotlib.legend.Legend at 0x1f604cc2b50>"
      ]
     },
     "execution_count": 62,
     "metadata": {},
     "output_type": "execute_result"
    },
    {
     "data": {
      "image/png": "[encoded data removed]",
      "text/plain": [
       "<Figure size 432x288 with 1 Axes>"
      ]
     },
     "metadata": {
      "needs_background": "light"
     },
     "output_type": "display_data"
    }
   ],
   "source": [
    "# visualized graph for clustering result\n",
    "plt.scatter(df1.close,df1['1DayMovement'],color='green')\n",
    "plt.scatter(df2.close,df2['1DayMovement'],color='red')\n",
    "plt.scatter(df3.close,df3['1DayMovement'],color='pink')\n",
    "plt.scatter(km.cluster_centers_[:,0],km.cluster_centers_[:,1],color='black',marker='*',label='centroid')\n",
    "plt.xlabel('close')\n",
    "plt.ylabel('1DayMovement')\n",
    "plt.legend()"
   ]
  },
  {
   "cell_type": "code",
   "execution_count": 63,
   "id": "b7afd27b",
   "metadata": {},
   "outputs": [],
   "source": [
    "#After transforming"
   ]
  },
  {
   "cell_type": "code",
   "execution_count": 64,
   "id": "67419e6e",
   "metadata": {},
   "outputs": [],
   "source": [
    "scaler = MinMaxScaler()\n",
    "\n",
    "scaler.fit(df[['1DayMovement']])\n",
    "df['1DayMovement'] = scaler.transform(df[['1DayMovement']])\n",
    "\n",
    "scaler.fit(df[['close']])\n",
    "df['close'] = scaler.transform(df[['close']])"
   ]
  },
  {
   "cell_type": "code",
   "execution_count": 65,
   "id": "38b2d669",
   "metadata": {},
   "outputs": [
    {
     "data": {
      "text/html": [
       "<div>\n",
       "<style scoped>\n",
       "    .dataframe tbody tr th:only-of-type {\n",
       "        vertical-align: middle;\n",
       "    }\n",
       "\n",
       "    .dataframe tbody tr th {\n",
       "        vertical-align: top;\n",
       "    }\n",
       "\n",
       "    .dataframe thead th {\n",
       "        text-align: right;\n",
       "    }\n",
       "</style>\n",
       "<table border=\"1\" class=\"dataframe\">\n",
       "  <thead>\n",
       "    <tr style=\"text-align: right;\">\n",
       "      <th></th>\n",
       "      <th>open</th>\n",
       "      <th>close</th>\n",
       "      <th>high</th>\n",
       "      <th>low</th>\n",
       "      <th>volume</th>\n",
       "      <th>1DayMovement</th>\n",
       "      <th>Movement%</th>\n",
       "      <th>cluster</th>\n",
       "    </tr>\n",
       "  </thead>\n",
       "  <tbody>\n",
       "    <tr>\n",
       "      <th>0</th>\n",
       "      <td>100.0</td>\n",
       "      <td>0.650749</td>\n",
       "      <td>101.0</td>\n",
       "      <td>98.00</td>\n",
       "      <td>2283100</td>\n",
       "      <td>0.388889</td>\n",
       "      <td>-0.020000</td>\n",
       "      <td>1</td>\n",
       "    </tr>\n",
       "    <tr>\n",
       "      <th>1</th>\n",
       "      <td>93.5</td>\n",
       "      <td>0.605413</td>\n",
       "      <td>95.0</td>\n",
       "      <td>90.75</td>\n",
       "      <td>4330100</td>\n",
       "      <td>0.375000</td>\n",
       "      <td>-0.024064</td>\n",
       "      <td>1</td>\n",
       "    </tr>\n",
       "    <tr>\n",
       "      <th>2</th>\n",
       "      <td>92.0</td>\n",
       "      <td>0.575190</td>\n",
       "      <td>92.5</td>\n",
       "      <td>85.00</td>\n",
       "      <td>7462000</td>\n",
       "      <td>0.208333</td>\n",
       "      <td>-0.057065</td>\n",
       "      <td>1</td>\n",
       "    </tr>\n",
       "    <tr>\n",
       "      <th>3</th>\n",
       "      <td>88.0</td>\n",
       "      <td>0.586943</td>\n",
       "      <td>89.0</td>\n",
       "      <td>86.50</td>\n",
       "      <td>4323800</td>\n",
       "      <td>0.527778</td>\n",
       "      <td>0.005682</td>\n",
       "      <td>1</td>\n",
       "    </tr>\n",
       "    <tr>\n",
       "      <th>4</th>\n",
       "      <td>91.5</td>\n",
       "      <td>0.591981</td>\n",
       "      <td>93.0</td>\n",
       "      <td>89.25</td>\n",
       "      <td>3713200</td>\n",
       "      <td>0.375000</td>\n",
       "      <td>-0.024590</td>\n",
       "      <td>1</td>\n",
       "    </tr>\n",
       "  </tbody>\n",
       "</table>\n",
       "</div>"
      ],
      "text/plain": [
       "    open     close   high    low   volume  1DayMovement  Movement%  cluster\n",
       "0  100.0  0.650749  101.0  98.00  2283100      0.388889  -0.020000        1\n",
       "1   93.5  0.605413   95.0  90.75  4330100      0.375000  -0.024064        1\n",
       "2   92.0  0.575190   92.5  85.00  7462000      0.208333  -0.057065        1\n",
       "3   88.0  0.586943   89.0  86.50  4323800      0.527778   0.005682        1\n",
       "4   91.5  0.591981   93.0  89.25  3713200      0.375000  -0.024590        1"
      ]
     },
     "execution_count": 65,
     "metadata": {},
     "output_type": "execute_result"
    }
   ],
   "source": [
    "df.head()"
   ]
  },
  {
   "cell_type": "code",
   "execution_count": 66,
   "id": "9840d599",
   "metadata": {
    "scrolled": true
   },
   "outputs": [
    {
     "data": {
      "text/plain": [
       "<matplotlib.collections.PathCollection at 0x1f604b7e760>"
      ]
     },
     "execution_count": 66,
     "metadata": {},
     "output_type": "execute_result"
    },
    {
     "data": {
      "image/png": "[encoded data removed]",
      "text/plain": [
       "<Figure size 432x288 with 1 Axes>"
      ]
     },
     "metadata": {
      "needs_background": "light"
     },
     "output_type": "display_data"
    }
   ],
   "source": [
    "plt.scatter(df.close, df['1DayMovement'])"
   ]
  },
  {
   "cell_type": "code",
   "execution_count": 67,
   "id": "0d012db2",
   "metadata": {},
   "outputs": [
    {
     "data": {
      "text/plain": [
       "array([1, 1, 1, ..., 2, 2, 2])"
      ]
     },
     "execution_count": 67,
     "metadata": {},
     "output_type": "execute_result"
    }
   ],
   "source": [
    "y_predicted = km.fit_predict(df[['close', '1DayMovement']])\n",
    "y_predicted"
   ]
  },
  {
   "cell_type": "code",
   "execution_count": 68,
   "id": "2a80d1c2",
   "metadata": {},
   "outputs": [
    {
     "data": {
      "text/html": [
       "<div>\n",
       "<style scoped>\n",
       "    .dataframe tbody tr th:only-of-type {\n",
       "        vertical-align: middle;\n",
       "    }\n",
       "\n",
       "    .dataframe tbody tr th {\n",
       "        vertical-align: top;\n",
       "    }\n",
       "\n",
       "    .dataframe thead th {\n",
       "        text-align: right;\n",
       "    }\n",
       "</style>\n",
       "<table border=\"1\" class=\"dataframe\">\n",
       "  <thead>\n",
       "    <tr style=\"text-align: right;\">\n",
       "      <th></th>\n",
       "      <th>open</th>\n",
       "      <th>close</th>\n",
       "      <th>high</th>\n",
       "      <th>low</th>\n",
       "      <th>volume</th>\n",
       "      <th>1DayMovement</th>\n",
       "      <th>Movement%</th>\n",
       "      <th>cluster</th>\n",
       "    </tr>\n",
       "  </thead>\n",
       "  <tbody>\n",
       "    <tr>\n",
       "      <th>0</th>\n",
       "      <td>100.0</td>\n",
       "      <td>0.650749</td>\n",
       "      <td>101.0</td>\n",
       "      <td>98.00</td>\n",
       "      <td>2283100</td>\n",
       "      <td>0.388889</td>\n",
       "      <td>-0.020000</td>\n",
       "      <td>1</td>\n",
       "    </tr>\n",
       "    <tr>\n",
       "      <th>1</th>\n",
       "      <td>93.5</td>\n",
       "      <td>0.605413</td>\n",
       "      <td>95.0</td>\n",
       "      <td>90.75</td>\n",
       "      <td>4330100</td>\n",
       "      <td>0.375000</td>\n",
       "      <td>-0.024064</td>\n",
       "      <td>1</td>\n",
       "    </tr>\n",
       "    <tr>\n",
       "      <th>2</th>\n",
       "      <td>92.0</td>\n",
       "      <td>0.575190</td>\n",
       "      <td>92.5</td>\n",
       "      <td>85.00</td>\n",
       "      <td>7462000</td>\n",
       "      <td>0.208333</td>\n",
       "      <td>-0.057065</td>\n",
       "      <td>1</td>\n",
       "    </tr>\n",
       "    <tr>\n",
       "      <th>3</th>\n",
       "      <td>88.0</td>\n",
       "      <td>0.586943</td>\n",
       "      <td>89.0</td>\n",
       "      <td>86.50</td>\n",
       "      <td>4323800</td>\n",
       "      <td>0.527778</td>\n",
       "      <td>0.005682</td>\n",
       "      <td>1</td>\n",
       "    </tr>\n",
       "    <tr>\n",
       "      <th>4</th>\n",
       "      <td>91.5</td>\n",
       "      <td>0.591981</td>\n",
       "      <td>93.0</td>\n",
       "      <td>89.25</td>\n",
       "      <td>3713200</td>\n",
       "      <td>0.375000</td>\n",
       "      <td>-0.024590</td>\n",
       "      <td>1</td>\n",
       "    </tr>\n",
       "  </tbody>\n",
       "</table>\n",
       "</div>"
      ],
      "text/plain": [
       "    open     close   high    low   volume  1DayMovement  Movement%  cluster\n",
       "0  100.0  0.650749  101.0  98.00  2283100      0.388889  -0.020000        1\n",
       "1   93.5  0.605413   95.0  90.75  4330100      0.375000  -0.024064        1\n",
       "2   92.0  0.575190   92.5  85.00  7462000      0.208333  -0.057065        1\n",
       "3   88.0  0.586943   89.0  86.50  4323800      0.527778   0.005682        1\n",
       "4   91.5  0.591981   93.0  89.25  3713200      0.375000  -0.024590        1"
      ]
     },
     "execution_count": 68,
     "metadata": {},
     "output_type": "execute_result"
    }
   ],
   "source": [
    "df['cluster'] = y_predicted\n",
    "df.head()"
   ]
  },
  {
   "cell_type": "code",
   "execution_count": 69,
   "id": "158b49e1",
   "metadata": {},
   "outputs": [],
   "source": [
    "df1 = df[df.cluster==0]\n",
    "df2 = df[df.cluster==1]\n",
    "df3 = df[df.cluster==2]"
   ]
  },
  {
   "cell_type": "code",
   "execution_count": 70,
   "id": "bdfeaf4e",
   "metadata": {},
   "outputs": [
    {
     "data": {
      "text/plain": [
       "<matplotlib.legend.Legend at 0x1f604dcbac0>"
      ]
     },
     "execution_count": 70,
     "metadata": {},
     "output_type": "execute_result"
    },
    {
     "data": {
      "image/png": "[encoded data removed]",
      "text/plain": [
       "<Figure size 432x288 with 1 Axes>"
      ]
     },
     "metadata": {
      "needs_background": "light"
     },
     "output_type": "display_data"
    }
   ],
   "source": [
    "# visualized graph for clustering result\n",
    "plt.scatter(df1.close,df1['1DayMovement'],color='green')\n",
    "plt.scatter(df2.close,df2['1DayMovement'],color='red')\n",
    "plt.scatter(df3.close,df3['1DayMovement'],color='pink')\n",
    "plt.scatter(km.cluster_centers_[:,0],km.cluster_centers_[:,1],color='black',marker='*',label='centroid')\n",
    "plt.xlabel('close')\n",
    "plt.ylabel('1DayMovement')\n",
    "plt.legend()"
   ]
  }
 ],
 "metadata": {
  "kernelspec": {
   "display_name": "Python 3",
   "language": "python",
   "name": "python3"
  },
  "language_info": {
   "codemirror_mode": {
    "name": "ipython",
    "version": 3
   },
   "file_extension": ".py",
   "mimetype": "text/x-python",
   "name": "python",
   "nbconvert_exporter": "python",
   "pygments_lexer": "ipython3",
   "version": "3.8.8"
  }
 },
 "nbformat": 4,
 "nbformat_minor": 5
}
